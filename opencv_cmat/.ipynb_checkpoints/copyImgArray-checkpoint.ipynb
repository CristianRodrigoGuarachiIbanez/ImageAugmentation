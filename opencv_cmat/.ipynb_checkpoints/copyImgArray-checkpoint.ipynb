{
 "cells": [
  {
   "cell_type": "code",
   "execution_count": null,
   "id": "b62386a1",
   "metadata": {},
   "outputs": [],
   "source": []
  },
  {
   "cell_type": "code",
   "execution_count": null,
   "id": "eb3c85f0",
   "metadata": {},
   "outputs": [],
   "source": []
  },
  {
   "cell_type": "code",
   "execution_count": 1,
   "id": "54efe484",
   "metadata": {},
   "outputs": [],
   "source": [
    "%load_ext Cython"
   ]
  },
  {
   "cell_type": "code",
   "execution_count": 4,
   "id": "80b95b7a",
   "metadata": {},
   "outputs": [
    {
     "name": "stderr",
     "output_type": "stream",
     "text": [
      "In file included from /usr/local/lib/python3.8/dist-packages/numpy/core/include/numpy/ndarraytypes.h:1969,\n",
      "                 from /usr/local/lib/python3.8/dist-packages/numpy/core/include/numpy/ndarrayobject.h:12,\n",
      "                 from /usr/local/lib/python3.8/dist-packages/numpy/core/include/numpy/arrayobject.h:4,\n",
      "                 from /home/cristian/.cache/ipython/cython/_cython_magic_4b13a48a81ef6cba85904beda4549b30.cpp:657:\n",
      "/usr/local/lib/python3.8/dist-packages/numpy/core/include/numpy/npy_1_7_deprecated_api.h:17:2: warning: #warning \"Using deprecated NumPy API, disable it with \" \"#define NPY_NO_DEPRECATED_API NPY_1_7_API_VERSION\" [-Wcpp]\n",
      "   17 | #warning \"Using deprecated NumPy API, disable it with \" \\\n",
      "      |  ^~~~~~~\n",
      "/home/cristian/.cache/ipython/cython/_cython_magic_4b13a48a81ef6cba85904beda4549b30.cpp:665:10: fatal error: core/core.hpp: No such file or directory\n",
      "  665 | #include \"core/core.hpp\"\n",
      "      |          ^~~~~~~~~~~~~~~\n",
      "compilation terminated.\n"
     ]
    }
   ],
   "source": [
    "%%cython\n",
    "# distutils: language = c++\n",
    "\n",
    "from libcpp.vector cimport vector\n",
    "from libc.string cimport memcpy\n",
    "from libc.stdlib cimport malloc, free\n",
    "from numpy cimport ndarray, uint8_t\n",
    "from numpy import copy, asarray, ascontiguousarray, uint8\n",
    "from opencv_mat cimport *\n",
    "ctypedef unsigned char uchar\n",
    "\n",
    "\n",
    "cdef class CopyNumpyArray:\n",
    "    cdef:\n",
    "        vector[vector[vector[Mat]]] mat_arrays  \n",
    "        int dim,dim1,r,c,n_copies\n",
    "    def __cinit__(self, uchar[:,:,:,:] data, int copies):\n",
    "        self.dim = data.shape[0]\n",
    "        self.dim1 = data.shape[1]\n",
    "        self.r = data.shape[2]\n",
    "        self.c = data.shape[3]\n",
    "        self.n_copies\n",
    "        self.copy_imgArray(data, copies)\n",
    "  \n",
    "    cdef Mat np2Mat2D(self, uchar[:,:] data):\n",
    "        assert (data.ndim==2), \"ASSERT::1 channel grayscale only!!\"\n",
    "\n",
    "        cdef ndarray[uint8_t, ndim=2, mode ='c'] np_buff = ascontiguousarray(data, dtype=uint8)\n",
    "        cdef unsigned int* im_buff = <unsigned int*> np_buff.data\n",
    " \n",
    "        cdef Mat m\n",
    "        m.create(self.r, self.c, CV_8UC1)\n",
    "        memcpy(m.data, im_buff, self.r*self.c)\n",
    "        return m\n",
    "    cdef void copy_imgArray(self, uchar[:,:,:,:] data, int c):\n",
    "        cdef:\n",
    "            int i,j\n",
    "            #Mat img\n",
    "            Mat copied\n",
    "            vector[vector[Mat]] imgs\n",
    "            vector[Mat] copies\n",
    "            \n",
    "        for i in range(self.dim):\n",
    "            for j in range(self.dim1):\n",
    "                img = self.np2Mat2D(data[i,j,:,:])\n",
    "                for _ in range(c):\n",
    "                    #img.copyTo(copied)\n",
    "                    copies.push_back(img)\n",
    "                imgs.push_back(copies)\n",
    "            self.mat_arrays.push_back(imgs)\n",
    "    cdef ndarray[uint8_t, ndim=4] vec2np(self):\n",
    "        cdef i,j,k\n",
    "        arrays = []\n",
    "        for i in range(self.dim):\n",
    "            seq = []\n",
    "            for j in range(self.dim1):\n",
    "                copies=[]\n",
    "                for k in range(self.n_copies):\n",
    "                    copies.append(Mat2np(self.mat_arrays[i][j][k]))\n",
    "                seq.append(copies)\n",
    "            arrays.append(seq)\n",
    "        return asarray(arrays, dtype=uint8)\n",
    "    def get_arrays(self):\n",
    "        return self.vec2np()  \n",
    "                \n",
    "    "
   ]
  },
  {
   "cell_type": "code",
   "execution_count": null,
   "id": "135b97e6",
   "metadata": {},
   "outputs": [],
   "source": []
  }
 ],
 "metadata": {
  "kernelspec": {
   "display_name": "local-venv",
   "language": "python",
   "name": "local-venv"
  },
  "language_info": {
   "codemirror_mode": {
    "name": "ipython",
    "version": 3
   },
   "file_extension": ".py",
   "mimetype": "text/x-python",
   "name": "python",
   "nbconvert_exporter": "python",
   "pygments_lexer": "ipython3",
   "version": "3.8.10"
  }
 },
 "nbformat": 4,
 "nbformat_minor": 5
}
