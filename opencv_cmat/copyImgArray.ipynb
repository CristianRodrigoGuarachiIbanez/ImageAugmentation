{
 "cells": [
  {
   "cell_type": "code",
   "execution_count": 11,
   "id": "b62386a1",
   "metadata": {},
   "outputs": [],
   "source": [
    "from numpy import zeros, uint8"
   ]
  },
  {
   "cell_type": "code",
   "execution_count": 13,
   "id": "f314b60a",
   "metadata": {},
   "outputs": [],
   "source": [
    "z = zeros((20,10,160,120), dtype=uint8)"
   ]
  },
  {
   "cell_type": "code",
   "execution_count": null,
   "id": "12cad976",
   "metadata": {},
   "outputs": [],
   "source": []
  },
  {
   "cell_type": "code",
   "execution_count": null,
   "id": "eb3c85f0",
   "metadata": {},
   "outputs": [],
   "source": [
    "%load_ext Cython"
   ]
  },
  {
   "cell_type": "code",
   "execution_count": 23,
   "id": "db2cd4e3",
   "metadata": {},
   "outputs": [
    {
     "name": "stderr",
     "output_type": "stream",
     "text": [
      "In file included from /usr/local/lib/python3.8/dist-packages/numpy/core/include/numpy/ndarraytypes.h:1969,\n",
      "                 from /usr/local/lib/python3.8/dist-packages/numpy/core/include/numpy/ndarrayobject.h:12,\n",
      "                 from /usr/local/lib/python3.8/dist-packages/numpy/core/include/numpy/arrayobject.h:4,\n",
      "                 from /home/cristian/.cache/ipython/cython/_cython_magic_9beb82827a9b371c956e0c77d3d47efc.cpp:661:\n",
      "/usr/local/lib/python3.8/dist-packages/numpy/core/include/numpy/npy_1_7_deprecated_api.h:17:2: warning: #warning \"Using deprecated NumPy API, disable it with \" \"#define NPY_NO_DEPRECATED_API NPY_1_7_API_VERSION\" [-Wcpp]\n",
      "   17 | #warning \"Using deprecated NumPy API, disable it with \" \\\n",
      "      |  ^~~~~~~\n"
     ]
    }
   ],
   "source": [
    "%%cython\n",
    "# distutils: language = c++\n",
    "\n",
    "from numpy cimport ndarray, uint8_t\n",
    "from numpy import copy, asarray, ascontiguousarray, uint8, float32, dstack, ndarray\n",
    "from cython cimport boundscheck, wraparound\n",
    "ctypedef unsigned char uchar\n",
    "cdef class CopyNumpyArray:\n",
    "    cdef:\n",
    "        uchar[:,:,:,:,:] img\n",
    "        int d,d1\n",
    "    def __cinit__(self,uchar[:,:,:,:] img, int num ):\n",
    "        self.d = img.shape[0]\n",
    "        self.d1 = img.shape[1]\n",
    "        self.copy_arrays(img,num )\n",
    "    @boundscheck(False)  # Deactivate bounds checking\n",
    "    @wraparound(False)\n",
    "    cdef void copy_arrays(self, uchar[:,:,:,:] img, int num):\n",
    "        \n",
    "        cdef: \n",
    "            int i,j,k\n",
    "            uchar[:,:] copied\n",
    "        dim= []\n",
    "        for i in range(self.d):\n",
    "            dim1=[]\n",
    "            for j in range(self.d1):\n",
    "                dim2=[]\n",
    "                for _ in range(num):\n",
    "                    copied = img[i,j,:,:].copy()\n",
    "                    dim2.append(copied)\n",
    "                dim1.append(dim2)\n",
    "            dim.append(dim1)\n",
    "        self.img = asarray(dim, dtype=uint8)\n",
    "    def get_array(self):\n",
    "        if(self.img.shape[0]==0):\n",
    "            return \"the array is empty\"\n",
    "        else:\n",
    "            return asarray(self.img, dtype=float)\n",
    "                    \n",
    "                    \n",
    "        \n",
    "        "
   ]
  },
  {
   "cell_type": "code",
   "execution_count": 25,
   "id": "9fe32be0",
   "metadata": {},
   "outputs": [
    {
     "data": {
      "text/plain": [
       "dtype('float64')"
      ]
     },
     "execution_count": 25,
     "metadata": {},
     "output_type": "execute_result"
    }
   ],
   "source": [
    "im = CopyNumpyArray(z, 7)\n",
    "sample = im.get_array()\n",
    "sample.dtype"
   ]
  },
  {
   "cell_type": "code",
   "execution_count": 2,
   "id": "54efe484",
   "metadata": {},
   "outputs": [],
   "source": [
    "%load_ext Cython"
   ]
  },
  {
   "cell_type": "code",
   "execution_count": 5,
   "id": "80b95b7a",
   "metadata": {},
   "outputs": [
    {
     "name": "stderr",
     "output_type": "stream",
     "text": [
      "In file included from /usr/local/lib/python3.8/dist-packages/numpy/core/include/numpy/ndarraytypes.h:1969,\n",
      "                 from /usr/local/lib/python3.8/dist-packages/numpy/core/include/numpy/ndarrayobject.h:12,\n",
      "                 from /usr/local/lib/python3.8/dist-packages/numpy/core/include/numpy/arrayobject.h:4,\n",
      "                 from /home/cristian/.cache/ipython/cython/_cython_magic_6e2ac8578228145531fe158db7205135.cpp:657:\n",
      "/usr/local/lib/python3.8/dist-packages/numpy/core/include/numpy/npy_1_7_deprecated_api.h:17:2: warning: #warning \"Using deprecated NumPy API, disable it with \" \"#define NPY_NO_DEPRECATED_API NPY_1_7_API_VERSION\" [-Wcpp]\n",
      "   17 | #warning \"Using deprecated NumPy API, disable it with \" \\\n",
      "      |  ^~~~~~~\n"
     ]
    },
    {
     "ename": "ImportError",
     "evalue": "/home/cristian/.cache/ipython/cython/_cython_magic_6e2ac8578228145531fe158db7205135.cpython-38-x86_64-linux-gnu.so: undefined symbol: _ZN2cv8fastFreeEPv",
     "output_type": "error",
     "traceback": [
      "\u001b[0;31m---------------------------------------------------------------------------\u001b[0m",
      "\u001b[0;31mImportError\u001b[0m                               Traceback (most recent call last)",
      "\u001b[0;32m/tmp/ipykernel_5058/4069600099.py\u001b[0m in \u001b[0;36m<module>\u001b[0;34m\u001b[0m\n\u001b[0;32m----> 1\u001b[0;31m \u001b[0mget_ipython\u001b[0m\u001b[0;34m(\u001b[0m\u001b[0;34m)\u001b[0m\u001b[0;34m.\u001b[0m\u001b[0mrun_cell_magic\u001b[0m\u001b[0;34m(\u001b[0m\u001b[0;34m'cython'\u001b[0m\u001b[0;34m,\u001b[0m \u001b[0;34m''\u001b[0m\u001b[0;34m,\u001b[0m \u001b[0;34m'# distutils: language = c++\\n\\nfrom libcpp.vector cimport vector\\nfrom libc.string cimport memcpy\\nfrom libc.stdlib cimport malloc, free\\nfrom numpy cimport ndarray, uint8_t\\nfrom numpy import copy, asarray, ascontiguousarray, uint8, float32, dstack, ndarray\\nfrom opencv_mat cimport *\\nctypedef unsigned char uchar\\n\\n\\ncdef class CopyNumpyArray:\\n    cdef:\\n        vector[vector[vector[Mat]]] mat_arrays\\n        int dim,dim1,r,c,n_copies\\n    def __cinit__(self, uchar[:,:,:,:] data, int copies):\\n        self.dim = data.shape[0]\\n        self.dim1 = data.shape[1]\\n        self.r = data.shape[2]\\n        self.c = data.shape[3]\\n        self.n_copies\\n        self.copy_imgArray(data, copies)\\n\\n    cdef Mat np2Mat2D(self, uchar[:,:] data):\\n        assert (data.ndim==2), \"ASSERT::1 channel grayscale only!!\"\\n\\n        cdef ndarray[uint8_t, ndim=2, mode =\\'c\\'] np_buff = ascontiguousarray(data, dtype=uint8)\\n        cdef unsigned int* im_buff = <unsigned int*> np_buff.data\\n\\n        cdef Mat m\\n        m.create(self.r, self.c, CV_8UC1)\\n        memcpy(m.data, im_buff, self.r*self.c)\\n        return m\\n    cdef void copy_imgArray(self, uchar[:,:,:,:] data, int c):\\n        cdef:\\n            int i,j\\n            #Mat img\\n            Mat copied\\n            vector[vector[Mat]] imgs\\n            vector[Mat] copies\\n\\n        for i in range(self.dim):\\n            for j in range(self.dim1):\\n                img = self.np2Mat2D(data[i,j,:,:])\\n                for _ in range(c):\\n                    #img.copyTo(copied)\\n                    copies.push_back(img)\\n                imgs.push_back(copies)\\n            self.mat_arrays.push_back(imgs)\\n\\n    cdef object Mat2np(self, Mat m):\\n        # Create buffer to transfer data from m.data\\n        cdef Py_buffer buf_info\\n        # Define the size / len of data\\n        cdef size_t len = m.rows*m.cols*m.elemSize()#m.channels()*sizeof(CV_8UC3)\\n        # Fill buffer\\n        PyBuffer_FillInfo(&buf_info, NULL, m.data, len, 1, PyBUF_FULL_RO)\\n        # Get Pyobject from buffer data\\n        Pydata  = PyMemoryView_FromBuffer(&buf_info)\\n\\n        # Create ndarray with data\\n        # the dimension of the output array is 2 if the image is grayscale\\n        if m.channels() >1 :\\n            shape_array = (m.rows, m.cols, m.channels())\\n        else:\\n            shape_array = (m.rows, m.cols)\\n\\n        if m.depth() == CV_32F :\\n            ary = ndarray(shape=shape_array, buffer=Pydata, order=\\'c\\', dtype=float32)\\n        else :\\n        #8-bit image\\n            ary = ndarray(shape=shape_array, buffer=Pydata, order=\\'c\\', dtype=uint8)\\n\\n        if m.channels() == 3:\\n            # BGR -> RGB\\n            ary = dstack((ary[...,2], ary[...,1], ary[...,0]))\\n\\n        # Convert to numpy array\\n        pyarr = asarray(ary)\\n        return pyarr\\n\\n    cdef ndarray[uint8_t, ndim=4] vec2np(self):\\n        cdef i,j,k\\n        arrays = []\\n        for i in range(self.dim):\\n            seq = []\\n            for j in range(self.dim1):\\n                copies=[]\\n                for k in range(self.n_copies):\\n                    copies.append(self.Mat2np(self.mat_arrays[i][j][k]))\\n                seq.append(copies)\\n            arrays.append(seq)\\n        return asarray(arrays, dtype=uint8)\\n    def get_arrays(self):\\n        return self.vec2np()\\n'\u001b[0m\u001b[0;34m)\u001b[0m\u001b[0;34m\u001b[0m\u001b[0;34m\u001b[0m\u001b[0m\n\u001b[0m",
      "\u001b[0;32m/usr/local/lib/python3.8/dist-packages/IPython/core/interactiveshell.py\u001b[0m in \u001b[0;36mrun_cell_magic\u001b[0;34m(self, magic_name, line, cell)\u001b[0m\n\u001b[1;32m   2417\u001b[0m             \u001b[0;32mwith\u001b[0m \u001b[0mself\u001b[0m\u001b[0;34m.\u001b[0m\u001b[0mbuiltin_trap\u001b[0m\u001b[0;34m:\u001b[0m\u001b[0;34m\u001b[0m\u001b[0;34m\u001b[0m\u001b[0m\n\u001b[1;32m   2418\u001b[0m                 \u001b[0margs\u001b[0m \u001b[0;34m=\u001b[0m \u001b[0;34m(\u001b[0m\u001b[0mmagic_arg_s\u001b[0m\u001b[0;34m,\u001b[0m \u001b[0mcell\u001b[0m\u001b[0;34m)\u001b[0m\u001b[0;34m\u001b[0m\u001b[0;34m\u001b[0m\u001b[0m\n\u001b[0;32m-> 2419\u001b[0;31m                 \u001b[0mresult\u001b[0m \u001b[0;34m=\u001b[0m \u001b[0mfn\u001b[0m\u001b[0;34m(\u001b[0m\u001b[0;34m*\u001b[0m\u001b[0margs\u001b[0m\u001b[0;34m,\u001b[0m \u001b[0;34m**\u001b[0m\u001b[0mkwargs\u001b[0m\u001b[0;34m)\u001b[0m\u001b[0;34m\u001b[0m\u001b[0;34m\u001b[0m\u001b[0m\n\u001b[0m\u001b[1;32m   2420\u001b[0m             \u001b[0;32mreturn\u001b[0m \u001b[0mresult\u001b[0m\u001b[0;34m\u001b[0m\u001b[0;34m\u001b[0m\u001b[0m\n\u001b[1;32m   2421\u001b[0m \u001b[0;34m\u001b[0m\u001b[0m\n",
      "\u001b[0;32m<decorator-gen-119>\u001b[0m in \u001b[0;36mcython\u001b[0;34m(self, line, cell)\u001b[0m\n",
      "\u001b[0;32m/usr/local/lib/python3.8/dist-packages/IPython/core/magic.py\u001b[0m in \u001b[0;36m<lambda>\u001b[0;34m(f, *a, **k)\u001b[0m\n\u001b[1;32m    185\u001b[0m     \u001b[0;31m# but it's overkill for just that one bit of state.\u001b[0m\u001b[0;34m\u001b[0m\u001b[0;34m\u001b[0m\u001b[0;34m\u001b[0m\u001b[0m\n\u001b[1;32m    186\u001b[0m     \u001b[0;32mdef\u001b[0m \u001b[0mmagic_deco\u001b[0m\u001b[0;34m(\u001b[0m\u001b[0marg\u001b[0m\u001b[0;34m)\u001b[0m\u001b[0;34m:\u001b[0m\u001b[0;34m\u001b[0m\u001b[0;34m\u001b[0m\u001b[0m\n\u001b[0;32m--> 187\u001b[0;31m         \u001b[0mcall\u001b[0m \u001b[0;34m=\u001b[0m \u001b[0;32mlambda\u001b[0m \u001b[0mf\u001b[0m\u001b[0;34m,\u001b[0m \u001b[0;34m*\u001b[0m\u001b[0ma\u001b[0m\u001b[0;34m,\u001b[0m \u001b[0;34m**\u001b[0m\u001b[0mk\u001b[0m\u001b[0;34m:\u001b[0m \u001b[0mf\u001b[0m\u001b[0;34m(\u001b[0m\u001b[0;34m*\u001b[0m\u001b[0ma\u001b[0m\u001b[0;34m,\u001b[0m \u001b[0;34m**\u001b[0m\u001b[0mk\u001b[0m\u001b[0;34m)\u001b[0m\u001b[0;34m\u001b[0m\u001b[0;34m\u001b[0m\u001b[0m\n\u001b[0m\u001b[1;32m    188\u001b[0m \u001b[0;34m\u001b[0m\u001b[0m\n\u001b[1;32m    189\u001b[0m         \u001b[0;32mif\u001b[0m \u001b[0mcallable\u001b[0m\u001b[0;34m(\u001b[0m\u001b[0marg\u001b[0m\u001b[0;34m)\u001b[0m\u001b[0;34m:\u001b[0m\u001b[0;34m\u001b[0m\u001b[0;34m\u001b[0m\u001b[0m\n",
      "\u001b[0;32m/usr/local/lib/python3.8/dist-packages/Cython/Build/IpythonMagic.py\u001b[0m in \u001b[0;36mcython\u001b[0;34m(self, line, cell)\u001b[0m\n\u001b[1;32m    349\u001b[0m             \u001b[0;32mreturn\u001b[0m \u001b[0;32mNone\u001b[0m\u001b[0;34m\u001b[0m\u001b[0;34m\u001b[0m\u001b[0m\n\u001b[1;32m    350\u001b[0m \u001b[0;34m\u001b[0m\u001b[0m\n\u001b[0;32m--> 351\u001b[0;31m         \u001b[0mmodule\u001b[0m \u001b[0;34m=\u001b[0m \u001b[0mimp\u001b[0m\u001b[0;34m.\u001b[0m\u001b[0mload_dynamic\u001b[0m\u001b[0;34m(\u001b[0m\u001b[0mmodule_name\u001b[0m\u001b[0;34m,\u001b[0m \u001b[0mmodule_path\u001b[0m\u001b[0;34m)\u001b[0m\u001b[0;34m\u001b[0m\u001b[0;34m\u001b[0m\u001b[0m\n\u001b[0m\u001b[1;32m    352\u001b[0m         \u001b[0mself\u001b[0m\u001b[0;34m.\u001b[0m\u001b[0m_import_all\u001b[0m\u001b[0;34m(\u001b[0m\u001b[0mmodule\u001b[0m\u001b[0;34m)\u001b[0m\u001b[0;34m\u001b[0m\u001b[0;34m\u001b[0m\u001b[0m\n\u001b[1;32m    353\u001b[0m \u001b[0;34m\u001b[0m\u001b[0m\n",
      "\u001b[0;32m/usr/lib/python3.8/imp.py\u001b[0m in \u001b[0;36mload_dynamic\u001b[0;34m(name, path, file)\u001b[0m\n\u001b[1;32m    340\u001b[0m         spec = importlib.machinery.ModuleSpec(\n\u001b[1;32m    341\u001b[0m             name=name, loader=loader, origin=path)\n\u001b[0;32m--> 342\u001b[0;31m         \u001b[0;32mreturn\u001b[0m \u001b[0m_load\u001b[0m\u001b[0;34m(\u001b[0m\u001b[0mspec\u001b[0m\u001b[0;34m)\u001b[0m\u001b[0;34m\u001b[0m\u001b[0;34m\u001b[0m\u001b[0m\n\u001b[0m\u001b[1;32m    343\u001b[0m \u001b[0;34m\u001b[0m\u001b[0m\n\u001b[1;32m    344\u001b[0m \u001b[0;32melse\u001b[0m\u001b[0;34m:\u001b[0m\u001b[0;34m\u001b[0m\u001b[0;34m\u001b[0m\u001b[0m\n",
      "\u001b[0;32m/usr/lib/python3.8/importlib/_bootstrap.py\u001b[0m in \u001b[0;36m_load\u001b[0;34m(spec)\u001b[0m\n",
      "\u001b[0;32m/usr/lib/python3.8/importlib/_bootstrap.py\u001b[0m in \u001b[0;36m_load_unlocked\u001b[0;34m(spec)\u001b[0m\n",
      "\u001b[0;32m/usr/lib/python3.8/importlib/_bootstrap.py\u001b[0m in \u001b[0;36mmodule_from_spec\u001b[0;34m(spec)\u001b[0m\n",
      "\u001b[0;32m/usr/lib/python3.8/importlib/_bootstrap_external.py\u001b[0m in \u001b[0;36mcreate_module\u001b[0;34m(self, spec)\u001b[0m\n",
      "\u001b[0;32m/usr/lib/python3.8/importlib/_bootstrap.py\u001b[0m in \u001b[0;36m_call_with_frames_removed\u001b[0;34m(f, *args, **kwds)\u001b[0m\n",
      "\u001b[0;31mImportError\u001b[0m: /home/cristian/.cache/ipython/cython/_cython_magic_6e2ac8578228145531fe158db7205135.cpython-38-x86_64-linux-gnu.so: undefined symbol: _ZN2cv8fastFreeEPv"
     ]
    }
   ],
   "source": [
    "%%cython\n",
    "# distutils: language = c++\n",
    "\n",
    "from libcpp.vector cimport vector\n",
    "from libc.string cimport memcpy\n",
    "from libc.stdlib cimport malloc, free\n",
    "from numpy cimport ndarray, uint8_t\n",
    "from numpy import copy, asarray, ascontiguousarray, uint8, float32, dstack, ndarray\n",
    "from opencv_mat cimport *\n",
    "ctypedef unsigned char uchar\n",
    "\n",
    "\n",
    "cdef class CopyNumpyArray:\n",
    "    cdef:\n",
    "        vector[vector[vector[Mat]]] mat_arrays\n",
    "        int dim,dim1,r,c,n_copies\n",
    "    def __cinit__(self, uchar[:,:,:,:] data, int copies):\n",
    "        self.dim = data.shape[0]\n",
    "        self.dim1 = data.shape[1]\n",
    "        self.r = data.shape[2]\n",
    "        self.c = data.shape[3]\n",
    "        self.n_copies\n",
    "        self.copy_imgArray(data, copies)\n",
    "\n",
    "    cdef Mat np2Mat2D(self, uchar[:,:] data):\n",
    "        assert (data.ndim==2), \"ASSERT::1 channel grayscale only!!\"\n",
    "\n",
    "        cdef ndarray[uint8_t, ndim=2, mode ='c'] np_buff = ascontiguousarray(data, dtype=uint8)\n",
    "        cdef unsigned int* im_buff = <unsigned int*> np_buff.data\n",
    "\n",
    "        cdef Mat m\n",
    "        m.create(self.r, self.c, CV_8UC1)\n",
    "        memcpy(m.data, im_buff, self.r*self.c)\n",
    "        return m\n",
    "    cdef void copy_imgArray(self, uchar[:,:,:,:] data, int c):\n",
    "        cdef:\n",
    "            int i,j\n",
    "            #Mat img\n",
    "            Mat copied\n",
    "            vector[vector[Mat]] imgs\n",
    "            vector[Mat] copies\n",
    "\n",
    "        for i in range(self.dim):\n",
    "            for j in range(self.dim1):\n",
    "                img = self.np2Mat2D(data[i,j,:,:])\n",
    "                for _ in range(c):\n",
    "                    #img.copyTo(copied)\n",
    "                    copies.push_back(img)\n",
    "                imgs.push_back(copies)\n",
    "            self.mat_arrays.push_back(imgs)\n",
    "\n",
    "    cdef object Mat2np(self, Mat m):\n",
    "        # Create buffer to transfer data from m.data\n",
    "        cdef Py_buffer buf_info\n",
    "        # Define the size / len of data\n",
    "        cdef size_t len = m.rows*m.cols*m.elemSize()#m.channels()*sizeof(CV_8UC3)\n",
    "        # Fill buffer\n",
    "        PyBuffer_FillInfo(&buf_info, NULL, m.data, len, 1, PyBUF_FULL_RO)\n",
    "        # Get Pyobject from buffer data\n",
    "        Pydata  = PyMemoryView_FromBuffer(&buf_info)\n",
    "\n",
    "        # Create ndarray with data\n",
    "        # the dimension of the output array is 2 if the image is grayscale\n",
    "        if m.channels() >1 :\n",
    "            shape_array = (m.rows, m.cols, m.channels())\n",
    "        else:\n",
    "            shape_array = (m.rows, m.cols)\n",
    "\n",
    "        if m.depth() == CV_32F :\n",
    "            ary = ndarray(shape=shape_array, buffer=Pydata, order='c', dtype=float32)\n",
    "        else :\n",
    "        #8-bit image\n",
    "            ary = ndarray(shape=shape_array, buffer=Pydata, order='c', dtype=uint8)\n",
    "\n",
    "        if m.channels() == 3:\n",
    "            # BGR -> RGB\n",
    "            ary = dstack((ary[...,2], ary[...,1], ary[...,0]))\n",
    "\n",
    "        # Convert to numpy array\n",
    "        pyarr = asarray(ary)\n",
    "        return pyarr\n",
    "\n",
    "    cdef ndarray[uint8_t, ndim=4] vec2np(self):\n",
    "        cdef i,j,k\n",
    "        arrays = []\n",
    "        for i in range(self.dim):\n",
    "            seq = []\n",
    "            for j in range(self.dim1):\n",
    "                copies=[]\n",
    "                for k in range(self.n_copies):\n",
    "                    copies.append(self.Mat2np(self.mat_arrays[i][j][k]))\n",
    "                seq.append(copies)\n",
    "            arrays.append(seq)\n",
    "        return asarray(arrays, dtype=uint8)\n",
    "    def get_arrays(self):\n",
    "        return self.vec2np()"
   ]
  },
  {
   "cell_type": "code",
   "execution_count": null,
   "id": "135b97e6",
   "metadata": {},
   "outputs": [],
   "source": []
  },
  {
   "cell_type": "code",
   "execution_count": null,
   "id": "8e803517",
   "metadata": {},
   "outputs": [],
   "source": []
  }
 ],
 "metadata": {
  "kernelspec": {
   "display_name": "local-venv",
   "language": "python",
   "name": "local-venv"
  },
  "language_info": {
   "codemirror_mode": {
    "name": "ipython",
    "version": 3
   },
   "file_extension": ".py",
   "mimetype": "text/x-python",
   "name": "python",
   "nbconvert_exporter": "python",
   "pygments_lexer": "ipython3",
   "version": "3.8.10"
  }
 },
 "nbformat": 4,
 "nbformat_minor": 5
}
